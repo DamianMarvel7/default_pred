{
 "cells": [
  {
   "cell_type": "code",
   "execution_count": 1,
   "id": "9413f873",
   "metadata": {},
   "outputs": [],
   "source": [
    "import pandas as pd\n",
    "import seaborn as sns\n",
    "import matplotlib.pyplot as plt"
   ]
  },
  {
   "cell_type": "code",
   "execution_count": 2,
   "id": "17f5c9fd",
   "metadata": {},
   "outputs": [],
   "source": [
    "pd.set_option('display.max_columns', None)"
   ]
  },
  {
   "cell_type": "code",
   "execution_count": 3,
   "id": "1c7668f1",
   "metadata": {},
   "outputs": [],
   "source": [
    "df = pd.read_csv('train_cleaned.csv')"
   ]
  },
  {
   "cell_type": "code",
   "execution_count": 4,
   "id": "c9a76cb8",
   "metadata": {},
   "outputs": [
    {
     "data": {
      "text/html": [
       "<div>\n",
       "<style scoped>\n",
       "    .dataframe tbody tr th:only-of-type {\n",
       "        vertical-align: middle;\n",
       "    }\n",
       "\n",
       "    .dataframe tbody tr th {\n",
       "        vertical-align: top;\n",
       "    }\n",
       "\n",
       "    .dataframe thead th {\n",
       "        text-align: right;\n",
       "    }\n",
       "</style>\n",
       "<table border=\"1\" class=\"dataframe\">\n",
       "  <thead>\n",
       "    <tr style=\"text-align: right;\">\n",
       "      <th></th>\n",
       "      <th>LIMIT_BAL</th>\n",
       "      <th>SEX</th>\n",
       "      <th>EDUCATION</th>\n",
       "      <th>MARRIAGE</th>\n",
       "      <th>AGE</th>\n",
       "      <th>PAY_0</th>\n",
       "      <th>DEFAULTED</th>\n",
       "      <th>BILL_MEAN</th>\n",
       "      <th>PAY_AMT_MEAN</th>\n",
       "    </tr>\n",
       "  </thead>\n",
       "  <tbody>\n",
       "    <tr>\n",
       "      <th>0</th>\n",
       "      <td>360000</td>\n",
       "      <td>female</td>\n",
       "      <td>university</td>\n",
       "      <td>single</td>\n",
       "      <td>25</td>\n",
       "      <td>0</td>\n",
       "      <td>0</td>\n",
       "      <td>8557.666667</td>\n",
       "      <td>9574.666667</td>\n",
       "    </tr>\n",
       "    <tr>\n",
       "      <th>1</th>\n",
       "      <td>240000</td>\n",
       "      <td>female</td>\n",
       "      <td>graduate school</td>\n",
       "      <td>single</td>\n",
       "      <td>46</td>\n",
       "      <td>2</td>\n",
       "      <td>0</td>\n",
       "      <td>1107.333333</td>\n",
       "      <td>1263.500000</td>\n",
       "    </tr>\n",
       "    <tr>\n",
       "      <th>2</th>\n",
       "      <td>320000</td>\n",
       "      <td>female</td>\n",
       "      <td>university</td>\n",
       "      <td>married</td>\n",
       "      <td>41</td>\n",
       "      <td>0</td>\n",
       "      <td>0</td>\n",
       "      <td>41459.666667</td>\n",
       "      <td>2750.000000</td>\n",
       "    </tr>\n",
       "    <tr>\n",
       "      <th>3</th>\n",
       "      <td>50000</td>\n",
       "      <td>female</td>\n",
       "      <td>university</td>\n",
       "      <td>single</td>\n",
       "      <td>24</td>\n",
       "      <td>0</td>\n",
       "      <td>1</td>\n",
       "      <td>445.833333</td>\n",
       "      <td>0.000000</td>\n",
       "    </tr>\n",
       "    <tr>\n",
       "      <th>4</th>\n",
       "      <td>80000</td>\n",
       "      <td>male</td>\n",
       "      <td>high school</td>\n",
       "      <td>married</td>\n",
       "      <td>52</td>\n",
       "      <td>0</td>\n",
       "      <td>0</td>\n",
       "      <td>22841.000000</td>\n",
       "      <td>1308.833333</td>\n",
       "    </tr>\n",
       "  </tbody>\n",
       "</table>\n",
       "</div>"
      ],
      "text/plain": [
       "   LIMIT_BAL     SEX        EDUCATION MARRIAGE  AGE  PAY_0  DEFAULTED  \\\n",
       "0     360000  female       university   single   25      0          0   \n",
       "1     240000  female  graduate school   single   46      2          0   \n",
       "2     320000  female       university  married   41      0          0   \n",
       "3      50000  female       university   single   24      0          1   \n",
       "4      80000    male      high school  married   52      0          0   \n",
       "\n",
       "      BILL_MEAN  PAY_AMT_MEAN  \n",
       "0   8557.666667   9574.666667  \n",
       "1   1107.333333   1263.500000  \n",
       "2  41459.666667   2750.000000  \n",
       "3    445.833333      0.000000  \n",
       "4  22841.000000   1308.833333  "
      ]
     },
     "execution_count": 4,
     "metadata": {},
     "output_type": "execute_result"
    }
   ],
   "source": [
    "df.head()"
   ]
  },
  {
   "cell_type": "code",
   "execution_count": 5,
   "id": "c0b4694e",
   "metadata": {},
   "outputs": [],
   "source": [
    "# Classify the columns\n",
    "categorical = ['SEX', 'EDUCATION', 'MARRIAGE', 'PAY_0']\n",
    "numerical = ['LIMIT_BAL', 'AGE','BILL_MEAN','PAY_AMT_MEAN']\n",
    "target = 'DEFAULTED'"
   ]
  },
  {
   "cell_type": "markdown",
   "id": "9388bc97",
   "metadata": {},
   "source": [
    "# Split the Data"
   ]
  },
  {
   "cell_type": "code",
   "execution_count": 6,
   "id": "4cdc2eee",
   "metadata": {},
   "outputs": [],
   "source": [
    "from sklearn.model_selection import train_test_split"
   ]
  },
  {
   "cell_type": "code",
   "execution_count": 7,
   "id": "ff89bfc4",
   "metadata": {},
   "outputs": [],
   "source": [
    "X = df.drop('DEFAULTED',axis=1)\n",
    "y = df['DEFAULTED']"
   ]
  },
  {
   "cell_type": "code",
   "execution_count": 8,
   "id": "6b851e1d",
   "metadata": {},
   "outputs": [],
   "source": [
    "X_fulltrain, X_test, y_fulltrain,y_test = train_test_split(X,y,test_size=0.2)\n",
    "X_train, X_val, y_train,y_val = train_test_split(X_fulltrain,y_fulltrain,test_size=0.25)"
   ]
  },
  {
   "cell_type": "code",
   "execution_count": 9,
   "id": "04a4afba",
   "metadata": {},
   "outputs": [],
   "source": [
    "X_train.reset_index(inplace=True,drop=True)\n",
    "X_val.reset_index(inplace=True,drop=True)\n",
    "X_test.reset_index(inplace=True,drop=True)"
   ]
  },
  {
   "cell_type": "markdown",
   "id": "0dca41cf",
   "metadata": {},
   "source": [
    "# Feature Engineering"
   ]
  },
  {
   "cell_type": "code",
   "execution_count": 10,
   "id": "188f62a6",
   "metadata": {},
   "outputs": [
    {
     "data": {
      "image/png": "[encoded data removed]",
      "text/plain": [
       "<Figure size 1000x1400 with 4 Axes>"
      ]
     },
     "metadata": {},
     "output_type": "display_data"
    }
   ],
   "source": [
    "# Make a histogram for numerical variable\n",
    "plt.figure(figsize=(10, 14))\n",
    "plt.subplots_adjust(hspace=0.6,wspace=0.4)\n",
    "for n, feature in enumerate(numerical):\n",
    "    ax = plt.subplot(8, 2, n + 1)\n",
    "    sns.histplot(df[feature])"
   ]
  },
  {
   "cell_type": "code",
   "execution_count": 11,
   "id": "c139444c",
   "metadata": {},
   "outputs": [
    {
     "data": {
      "image/png": "[encoded data removed]",
      "text/plain": [
       "<Figure size 500x1800 with 4 Axes>"
      ]
     },
     "metadata": {},
     "output_type": "display_data"
    }
   ],
   "source": [
    "# Make a boxplot for numerical variable\n",
    "plt.figure(figsize=(5, 18))\n",
    "plt.subplots_adjust(hspace=0.6,wspace=0.4)\n",
    "for n, feature in enumerate(numerical):\n",
    "    ax = plt.subplot(8, 2, n + 1)\n",
    "    sns.boxplot(X_train[feature])\n",
    "    plt.title(feature)"
   ]
  },
  {
   "cell_type": "markdown",
   "id": "a032f15d",
   "metadata": {},
   "source": [
    "Looking at the data are skewed and have so many outliers, it would better for us to use decision tree algorithm like xgboost so we don't need to do normalization and handling the outliers."
   ]
  },
  {
   "cell_type": "markdown",
   "id": "ad15b41e",
   "metadata": {},
   "source": [
    "### One Hot Encoding"
   ]
  },
  {
   "cell_type": "code",
   "execution_count": 12,
   "id": "c64b5e29",
   "metadata": {},
   "outputs": [],
   "source": [
    "from sklearn.preprocessing import OneHotEncoder"
   ]
  },
  {
   "cell_type": "code",
   "execution_count": 13,
   "id": "f5f1c353",
   "metadata": {},
   "outputs": [],
   "source": [
    "ohe = OneHotEncoder(handle_unknown=\"ignore\",drop=\"first\")"
   ]
  },
  {
   "cell_type": "code",
   "execution_count": 14,
   "id": "cb0eb630",
   "metadata": {},
   "outputs": [],
   "source": [
    "# We only one hot encoding sex, marriage,education since in the pay related column we can leave it as it is\n",
    "X_train_cat = pd.DataFrame(ohe.fit_transform(X_train[[\"SEX\",\"MARRIAGE\",\"EDUCATION\"]]).toarray(),columns=ohe.get_feature_names_out())\n",
    "X_val_cat = pd.DataFrame(ohe.transform(X_val[[\"SEX\",\"MARRIAGE\",\"EDUCATION\"]]).toarray(),columns=ohe.get_feature_names_out())\n",
    "X_test_cat = pd.DataFrame(ohe.transform(X_test[[\"SEX\",\"MARRIAGE\",\"EDUCATION\"]]).toarray(),columns=ohe.get_feature_names_out())"
   ]
  },
  {
   "cell_type": "code",
   "execution_count": 15,
   "id": "c7ddaaf7",
   "metadata": {},
   "outputs": [],
   "source": [
    "X_train = pd.concat([X_train_cat,X_train.drop([\"SEX\",\"MARRIAGE\",\"EDUCATION\"],axis=1)],axis=1)\n",
    "X_val = pd.concat([X_val_cat,X_val.drop([\"SEX\",\"MARRIAGE\",\"EDUCATION\"],axis=1)],axis=1)\n",
    "X_test = pd.concat([X_test_cat,X_test.drop([\"SEX\",\"MARRIAGE\",\"EDUCATION\"],axis=1)],axis=1)"
   ]
  },
  {
   "cell_type": "markdown",
   "id": "a351d440",
   "metadata": {},
   "source": [
    "# Feature Importance"
   ]
  },
  {
   "cell_type": "markdown",
   "id": "634985b0",
   "metadata": {},
   "source": [
    "### Information Gain"
   ]
  },
  {
   "cell_type": "code",
   "execution_count": 16,
   "id": "dcaacc1d",
   "metadata": {},
   "outputs": [],
   "source": [
    "from sklearn.feature_selection import mutual_info_classif"
   ]
  },
  {
   "cell_type": "code",
   "execution_count": 17,
   "id": "27d4d2ec",
   "metadata": {},
   "outputs": [
    {
     "data": {
      "text/plain": [
       "PAY_0                    0.076789\n",
       "PAY_AMT_MEAN             0.022368\n",
       "LIMIT_BAL                0.018356\n",
       "EDUCATION_others         0.008141\n",
       "EDUCATION_university     0.004426\n",
       "AGE                      0.004360\n",
       "SEX_male                 0.004306\n",
       "BILL_MEAN                0.003989\n",
       "MARRIAGE_single          0.002820\n",
       "MARRIAGE_married         0.000000\n",
       "EDUCATION_high school    0.000000\n",
       "dtype: float64"
      ]
     },
     "execution_count": 17,
     "metadata": {},
     "output_type": "execute_result"
    }
   ],
   "source": [
    "mutual_info=mutual_info_classif(X_train,y_train)\n",
    "\n",
    "mutual_data=pd.Series(mutual_info,index=X_train.columns)\n",
    "mutual_data.sort_values(ascending=False)"
   ]
  },
  {
   "cell_type": "markdown",
   "id": "9fdc31ac",
   "metadata": {},
   "source": [
    "- Sex, education, and marriage have low mutual information\n",
    "- PAY_0 have the highest mutual information followed by PAY_AMT_MEAN and LIMIT_BAL"
   ]
  },
  {
   "cell_type": "markdown",
   "id": "5a75d29f",
   "metadata": {},
   "source": [
    "# Handling Imbalanced Dataset"
   ]
  },
  {
   "cell_type": "code",
   "execution_count": 18,
   "id": "aca80cbb",
   "metadata": {},
   "outputs": [
    {
     "data": {
      "text/plain": [
       "0    0.780476\n",
       "1    0.219524\n",
       "Name: DEFAULTED, dtype: float64"
      ]
     },
     "execution_count": 18,
     "metadata": {},
     "output_type": "execute_result"
    }
   ],
   "source": [
    "y_train.value_counts()/len(y_train)"
   ]
  },
  {
   "cell_type": "markdown",
   "id": "47b0b5e8",
   "metadata": {},
   "source": [
    "We have 78-22 target variable so we use smotetomek to handle it"
   ]
  },
  {
   "cell_type": "code",
   "execution_count": 19,
   "id": "d6d551a5",
   "metadata": {},
   "outputs": [],
   "source": [
    "from imblearn.combine import SMOTETomek\n",
    "from collections import Counter"
   ]
  },
  {
   "cell_type": "code",
   "execution_count": 20,
   "id": "ca8d3bae",
   "metadata": {},
   "outputs": [
    {
     "name": "stdout",
     "output_type": "stream",
     "text": [
      "The number of classes before fit Counter({0: 9834, 1: 2766})\n",
      "The number of classes after fit Counter({0: 8600, 1: 8600})\n"
     ]
    }
   ],
   "source": [
    "os=SMOTETomek()\n",
    "X_train_ns,y_train_ns=os.fit_resample(X_train,y_train)\n",
    "print(\"The number of classes before fit {}\".format(Counter(y_train)))\n",
    "print(\"The number of classes after fit {}\".format(Counter(y_train_ns)))"
   ]
  },
  {
   "cell_type": "markdown",
   "id": "f8e338fe",
   "metadata": {},
   "source": [
    "# Model"
   ]
  },
  {
   "cell_type": "code",
   "execution_count": 21,
   "id": "1100a1c5",
   "metadata": {},
   "outputs": [],
   "source": [
    "from xgboost import XGBClassifier\n",
    "from sklearn.metrics import confusion_matrix,classification_report,accuracy_score,roc_auc_score\n",
    "from sklearn.pipeline import Pipeline\n",
    "from sklearn.model_selection import GridSearchCV"
   ]
  },
  {
   "cell_type": "markdown",
   "id": "3e9b2849",
   "metadata": {},
   "source": [
    "Since the data is imbalanced we only use confusion matrix and classification report to evaluate our model"
   ]
  },
  {
   "cell_type": "code",
   "execution_count": 22,
   "id": "05940380",
   "metadata": {},
   "outputs": [],
   "source": [
    "ensemble = XGBClassifier()\n",
    "ensemble.fit(X_train,y_train)\n",
    "y_pred = ensemble.predict(X_train)"
   ]
  },
  {
   "cell_type": "code",
   "execution_count": 23,
   "id": "e32b8b14",
   "metadata": {},
   "outputs": [],
   "source": [
    "def output_result(y,y_pred):\n",
    "    print('Confusion Matrix')\n",
    "    print(confusion_matrix(y,y_pred))\n",
    "    print(f'Accuracy : {accuracy_score(y,y_pred)}')\n",
    "    print(f'Auc score Train: {roc_auc_score(y,y_pred)}')\n",
    "    print(classification_report(y,y_pred))"
   ]
  },
  {
   "cell_type": "code",
   "execution_count": 24,
   "id": "1ab620f7",
   "metadata": {},
   "outputs": [
    {
     "name": "stdout",
     "output_type": "stream",
     "text": [
      "Confusion Matrix\n",
      "[[9639  195]\n",
      " [1359 1407]]\n",
      "Accuracy : 0.8766666666666667\n",
      "Auc score Train: 0.7444238127316931\n",
      "              precision    recall  f1-score   support\n",
      "\n",
      "           0       0.88      0.98      0.93      9834\n",
      "           1       0.88      0.51      0.64      2766\n",
      "\n",
      "    accuracy                           0.88     12600\n",
      "   macro avg       0.88      0.74      0.78     12600\n",
      "weighted avg       0.88      0.88      0.86     12600\n",
      "\n"
     ]
    }
   ],
   "source": [
    "output_result(y_train,y_pred)"
   ]
  },
  {
   "cell_type": "code",
   "execution_count": 25,
   "id": "24b7922b",
   "metadata": {},
   "outputs": [
    {
     "name": "stdout",
     "output_type": "stream",
     "text": [
      "Confusion Matrix\n",
      "[[3078  189]\n",
      " [ 618  315]]\n",
      "Accuracy : 0.8078571428571428\n",
      "Auc score Train: 0.6398846695543567\n",
      "              precision    recall  f1-score   support\n",
      "\n",
      "           0       0.83      0.94      0.88      3267\n",
      "           1       0.62      0.34      0.44       933\n",
      "\n",
      "    accuracy                           0.81      4200\n",
      "   macro avg       0.73      0.64      0.66      4200\n",
      "weighted avg       0.79      0.81      0.79      4200\n",
      "\n"
     ]
    }
   ],
   "source": [
    "y_pred = ensemble.predict(X_val)\n",
    "output_result(y_val,y_pred)"
   ]
  },
  {
   "cell_type": "markdown",
   "id": "b6b54658",
   "metadata": {},
   "source": [
    "Looking at the precision and recall in training and validation evaluation, the models are overfit so we need to tune some parameters."
   ]
  },
  {
   "cell_type": "code",
   "execution_count": 26,
   "id": "f41905f6",
   "metadata": {},
   "outputs": [],
   "source": [
    "# Create a pipeline\n",
    "pipe = Pipeline([(\"ensemble\", XGBClassifier())])\n",
    "# Create dictionary with candidate learning algorithms and their hyperparameters\n",
    "grid_param = [\n",
    "               {\"ensemble\": [XGBClassifier()],\n",
    "                \"ensemble__eta\":[0.05,0.01,0.1,0.3],\n",
    "                \"ensemble__max_depth\":[3,4,6,10],\n",
    "                \"ensemble__min_child_weight\":[1,10,20,30],\n",
    "               }\n",
    "]\n",
    "\n",
    "# Create a gridsearch of the pipeline, the fit the best model\n",
    "gridsearch = GridSearchCV(pipe, grid_param, cv=5, verbose=0,n_jobs=-1) \n",
    "best_model = gridsearch.fit(X_train_ns,y_train_ns)"
   ]
  },
  {
   "cell_type": "code",
   "execution_count": 27,
   "id": "f837306d",
   "metadata": {},
   "outputs": [
    {
     "name": "stdout",
     "output_type": "stream",
     "text": [
      "Confusion Matrix\n",
      "[[8457  143]\n",
      " [ 835 7765]]\n",
      "Accuracy : 0.9431395348837209\n",
      "Auc score Train: 0.9431395348837209\n",
      "              precision    recall  f1-score   support\n",
      "\n",
      "           0       0.91      0.98      0.95      8600\n",
      "           1       0.98      0.90      0.94      8600\n",
      "\n",
      "    accuracy                           0.94     17200\n",
      "   macro avg       0.95      0.94      0.94     17200\n",
      "weighted avg       0.95      0.94      0.94     17200\n",
      "\n"
     ]
    }
   ],
   "source": [
    "y_pred = best_model.predict(X_train_ns)\n",
    "output_result(y_train_ns,y_pred)"
   ]
  },
  {
   "cell_type": "code",
   "execution_count": 28,
   "id": "405d11e1",
   "metadata": {},
   "outputs": [
    {
     "name": "stdout",
     "output_type": "stream",
     "text": [
      "Confusion Matrix\n",
      "[[2959  308]\n",
      " [ 549  384]]\n",
      "Accuracy : 0.795952380952381\n",
      "Auc score Train: 0.6586497342124351\n",
      "              precision    recall  f1-score   support\n",
      "\n",
      "           0       0.84      0.91      0.87      3267\n",
      "           1       0.55      0.41      0.47       933\n",
      "\n",
      "    accuracy                           0.80      4200\n",
      "   macro avg       0.70      0.66      0.67      4200\n",
      "weighted avg       0.78      0.80      0.78      4200\n",
      "\n"
     ]
    }
   ],
   "source": [
    "y_pred = best_model.predict(X_val)\n",
    "output_result(y_val,y_pred)"
   ]
  },
  {
   "cell_type": "markdown",
   "id": "734ceca5",
   "metadata": {},
   "source": [
    "Compare to before the model is more consistent and it is not overfit anymore. Since we have imbalanced dataset(target variable), it would be better to look at f1 score and not the accuracy."
   ]
  },
  {
   "cell_type": "markdown",
   "id": "a075a094",
   "metadata": {},
   "source": [
    "# Feature Selection"
   ]
  },
  {
   "cell_type": "markdown",
   "id": "c7d8aeff",
   "metadata": {},
   "source": [
    "We already try to calculate information gain and we get that there is feature that have 0 information gain so we want to remove the columns and compare the result."
   ]
  },
  {
   "cell_type": "code",
   "execution_count": 29,
   "id": "cb997a2d",
   "metadata": {},
   "outputs": [
    {
     "data": {
      "text/html": [
       "<div>\n",
       "<style scoped>\n",
       "    .dataframe tbody tr th:only-of-type {\n",
       "        vertical-align: middle;\n",
       "    }\n",
       "\n",
       "    .dataframe tbody tr th {\n",
       "        vertical-align: top;\n",
       "    }\n",
       "\n",
       "    .dataframe thead th {\n",
       "        text-align: right;\n",
       "    }\n",
       "</style>\n",
       "<table border=\"1\" class=\"dataframe\">\n",
       "  <thead>\n",
       "    <tr style=\"text-align: right;\">\n",
       "      <th></th>\n",
       "      <th>SEX_male</th>\n",
       "      <th>MARRIAGE_married</th>\n",
       "      <th>MARRIAGE_single</th>\n",
       "      <th>EDUCATION_high school</th>\n",
       "      <th>EDUCATION_others</th>\n",
       "      <th>EDUCATION_university</th>\n",
       "      <th>LIMIT_BAL</th>\n",
       "      <th>AGE</th>\n",
       "      <th>PAY_0</th>\n",
       "      <th>BILL_MEAN</th>\n",
       "      <th>PAY_AMT_MEAN</th>\n",
       "    </tr>\n",
       "  </thead>\n",
       "  <tbody>\n",
       "    <tr>\n",
       "      <th>0</th>\n",
       "      <td>0.000000</td>\n",
       "      <td>1.000000</td>\n",
       "      <td>0.000000</td>\n",
       "      <td>0.000000</td>\n",
       "      <td>0.0</td>\n",
       "      <td>1.000000</td>\n",
       "      <td>290000</td>\n",
       "      <td>45</td>\n",
       "      <td>0</td>\n",
       "      <td>86894.500000</td>\n",
       "      <td>4000.000000</td>\n",
       "    </tr>\n",
       "    <tr>\n",
       "      <th>1</th>\n",
       "      <td>1.000000</td>\n",
       "      <td>1.000000</td>\n",
       "      <td>0.000000</td>\n",
       "      <td>0.000000</td>\n",
       "      <td>0.0</td>\n",
       "      <td>0.000000</td>\n",
       "      <td>20000</td>\n",
       "      <td>39</td>\n",
       "      <td>0</td>\n",
       "      <td>629.666667</td>\n",
       "      <td>783.333333</td>\n",
       "    </tr>\n",
       "    <tr>\n",
       "      <th>2</th>\n",
       "      <td>0.000000</td>\n",
       "      <td>1.000000</td>\n",
       "      <td>0.000000</td>\n",
       "      <td>0.000000</td>\n",
       "      <td>0.0</td>\n",
       "      <td>1.000000</td>\n",
       "      <td>170000</td>\n",
       "      <td>39</td>\n",
       "      <td>0</td>\n",
       "      <td>20534.666667</td>\n",
       "      <td>1120.166667</td>\n",
       "    </tr>\n",
       "    <tr>\n",
       "      <th>3</th>\n",
       "      <td>0.000000</td>\n",
       "      <td>1.000000</td>\n",
       "      <td>0.000000</td>\n",
       "      <td>0.000000</td>\n",
       "      <td>0.0</td>\n",
       "      <td>1.000000</td>\n",
       "      <td>110000</td>\n",
       "      <td>24</td>\n",
       "      <td>1</td>\n",
       "      <td>40960.500000</td>\n",
       "      <td>13272.500000</td>\n",
       "    </tr>\n",
       "    <tr>\n",
       "      <th>4</th>\n",
       "      <td>0.000000</td>\n",
       "      <td>0.000000</td>\n",
       "      <td>1.000000</td>\n",
       "      <td>0.000000</td>\n",
       "      <td>0.0</td>\n",
       "      <td>1.000000</td>\n",
       "      <td>490000</td>\n",
       "      <td>28</td>\n",
       "      <td>0</td>\n",
       "      <td>95543.166667</td>\n",
       "      <td>17300.000000</td>\n",
       "    </tr>\n",
       "    <tr>\n",
       "      <th>...</th>\n",
       "      <td>...</td>\n",
       "      <td>...</td>\n",
       "      <td>...</td>\n",
       "      <td>...</td>\n",
       "      <td>...</td>\n",
       "      <td>...</td>\n",
       "      <td>...</td>\n",
       "      <td>...</td>\n",
       "      <td>...</td>\n",
       "      <td>...</td>\n",
       "      <td>...</td>\n",
       "    </tr>\n",
       "    <tr>\n",
       "      <th>17195</th>\n",
       "      <td>0.000000</td>\n",
       "      <td>0.727819</td>\n",
       "      <td>0.272181</td>\n",
       "      <td>0.727819</td>\n",
       "      <td>0.0</td>\n",
       "      <td>0.272181</td>\n",
       "      <td>60000</td>\n",
       "      <td>33</td>\n",
       "      <td>1</td>\n",
       "      <td>49360.880790</td>\n",
       "      <td>1581.360903</td>\n",
       "    </tr>\n",
       "    <tr>\n",
       "      <th>17196</th>\n",
       "      <td>0.238698</td>\n",
       "      <td>0.000000</td>\n",
       "      <td>1.000000</td>\n",
       "      <td>0.000000</td>\n",
       "      <td>0.0</td>\n",
       "      <td>0.238698</td>\n",
       "      <td>100000</td>\n",
       "      <td>28</td>\n",
       "      <td>1</td>\n",
       "      <td>35.654311</td>\n",
       "      <td>35.654311</td>\n",
       "    </tr>\n",
       "    <tr>\n",
       "      <th>17197</th>\n",
       "      <td>0.000000</td>\n",
       "      <td>0.000000</td>\n",
       "      <td>1.000000</td>\n",
       "      <td>0.000000</td>\n",
       "      <td>0.0</td>\n",
       "      <td>1.000000</td>\n",
       "      <td>160000</td>\n",
       "      <td>25</td>\n",
       "      <td>2</td>\n",
       "      <td>160662.489007</td>\n",
       "      <td>5568.935927</td>\n",
       "    </tr>\n",
       "    <tr>\n",
       "      <th>17198</th>\n",
       "      <td>0.309523</td>\n",
       "      <td>0.000000</td>\n",
       "      <td>1.000000</td>\n",
       "      <td>0.000000</td>\n",
       "      <td>0.0</td>\n",
       "      <td>0.690477</td>\n",
       "      <td>120000</td>\n",
       "      <td>27</td>\n",
       "      <td>0</td>\n",
       "      <td>1339.963568</td>\n",
       "      <td>1134.856832</td>\n",
       "    </tr>\n",
       "    <tr>\n",
       "      <th>17199</th>\n",
       "      <td>0.000000</td>\n",
       "      <td>0.280427</td>\n",
       "      <td>0.719573</td>\n",
       "      <td>0.000000</td>\n",
       "      <td>0.0</td>\n",
       "      <td>1.000000</td>\n",
       "      <td>30000</td>\n",
       "      <td>26</td>\n",
       "      <td>0</td>\n",
       "      <td>26982.153947</td>\n",
       "      <td>1433.371808</td>\n",
       "    </tr>\n",
       "  </tbody>\n",
       "</table>\n",
       "<p>17200 rows × 11 columns</p>\n",
       "</div>"
      ],
      "text/plain": [
       "       SEX_male  MARRIAGE_married  MARRIAGE_single  EDUCATION_high school  \\\n",
       "0      0.000000          1.000000         0.000000               0.000000   \n",
       "1      1.000000          1.000000         0.000000               0.000000   \n",
       "2      0.000000          1.000000         0.000000               0.000000   \n",
       "3      0.000000          1.000000         0.000000               0.000000   \n",
       "4      0.000000          0.000000         1.000000               0.000000   \n",
       "...         ...               ...              ...                    ...   \n",
       "17195  0.000000          0.727819         0.272181               0.727819   \n",
       "17196  0.238698          0.000000         1.000000               0.000000   \n",
       "17197  0.000000          0.000000         1.000000               0.000000   \n",
       "17198  0.309523          0.000000         1.000000               0.000000   \n",
       "17199  0.000000          0.280427         0.719573               0.000000   \n",
       "\n",
       "       EDUCATION_others  EDUCATION_university  LIMIT_BAL  AGE  PAY_0  \\\n",
       "0                   0.0              1.000000     290000   45      0   \n",
       "1                   0.0              0.000000      20000   39      0   \n",
       "2                   0.0              1.000000     170000   39      0   \n",
       "3                   0.0              1.000000     110000   24      1   \n",
       "4                   0.0              1.000000     490000   28      0   \n",
       "...                 ...                   ...        ...  ...    ...   \n",
       "17195               0.0              0.272181      60000   33      1   \n",
       "17196               0.0              0.238698     100000   28      1   \n",
       "17197               0.0              1.000000     160000   25      2   \n",
       "17198               0.0              0.690477     120000   27      0   \n",
       "17199               0.0              1.000000      30000   26      0   \n",
       "\n",
       "           BILL_MEAN  PAY_AMT_MEAN  \n",
       "0       86894.500000   4000.000000  \n",
       "1         629.666667    783.333333  \n",
       "2       20534.666667   1120.166667  \n",
       "3       40960.500000  13272.500000  \n",
       "4       95543.166667  17300.000000  \n",
       "...              ...           ...  \n",
       "17195   49360.880790   1581.360903  \n",
       "17196      35.654311     35.654311  \n",
       "17197  160662.489007   5568.935927  \n",
       "17198    1339.963568   1134.856832  \n",
       "17199   26982.153947   1433.371808  \n",
       "\n",
       "[17200 rows x 11 columns]"
      ]
     },
     "execution_count": 29,
     "metadata": {},
     "output_type": "execute_result"
    }
   ],
   "source": [
    "X_train_ns"
   ]
  },
  {
   "cell_type": "code",
   "execution_count": 30,
   "id": "d7f0e7ee",
   "metadata": {},
   "outputs": [],
   "source": [
    "features = X_train.columns[(mutual_data.values!=0)]\n",
    "X_train_ns = X_train_ns[features]\n",
    "X_val = X_val[features]\n",
    "X_test = X_test[features]"
   ]
  },
  {
   "cell_type": "code",
   "execution_count": 31,
   "id": "8c2f8cbd",
   "metadata": {},
   "outputs": [],
   "source": [
    "# Create a pipeline\n",
    "pipe = Pipeline([(\"ensemble\", XGBClassifier())])\n",
    "# Create dictionary with candidate learning algorithms and their hyperparameters\n",
    "grid_param = [\n",
    "               {\"ensemble\": [XGBClassifier()],\n",
    "                \"ensemble__eta\":[0.05,0.01,0.1,0.3],\n",
    "                \"ensemble__max_depth\":[3,4,6,10],\n",
    "                \"ensemble__min_child_weight\":[1,10,20,30],\n",
    "               }\n",
    "]\n",
    "\n",
    "# Create a gridsearch of the pipeline, the fit the best model\n",
    "gridsearch = GridSearchCV(pipe, grid_param, cv=5, verbose=0,n_jobs=-1) \n",
    "best_model = gridsearch.fit(X_train_ns,y_train_ns)"
   ]
  },
  {
   "cell_type": "code",
   "execution_count": 32,
   "id": "bc2cb22c",
   "metadata": {},
   "outputs": [
    {
     "name": "stdout",
     "output_type": "stream",
     "text": [
      "Confusion Matrix\n",
      "[[8591    9]\n",
      " [ 235 8365]]\n",
      "Accuracy : 0.9858139534883721\n",
      "Auc score Train: 0.985813953488372\n",
      "              precision    recall  f1-score   support\n",
      "\n",
      "           0       0.97      1.00      0.99      8600\n",
      "           1       1.00      0.97      0.99      8600\n",
      "\n",
      "    accuracy                           0.99     17200\n",
      "   macro avg       0.99      0.99      0.99     17200\n",
      "weighted avg       0.99      0.99      0.99     17200\n",
      "\n"
     ]
    }
   ],
   "source": [
    "y_pred = best_model.predict(X_train_ns)\n",
    "output_result(y_train_ns,y_pred)"
   ]
  },
  {
   "cell_type": "code",
   "execution_count": 33,
   "id": "bc15120b",
   "metadata": {},
   "outputs": [
    {
     "name": "stdout",
     "output_type": "stream",
     "text": [
      "Confusion Matrix\n",
      "[[2925  342]\n",
      " [ 552  381]]\n",
      "Accuracy : 0.7871428571428571\n",
      "Auc score Train: 0.6518384665125385\n",
      "              precision    recall  f1-score   support\n",
      "\n",
      "           0       0.84      0.90      0.87      3267\n",
      "           1       0.53      0.41      0.46       933\n",
      "\n",
      "    accuracy                           0.79      4200\n",
      "   macro avg       0.68      0.65      0.66      4200\n",
      "weighted avg       0.77      0.79      0.78      4200\n",
      "\n"
     ]
    }
   ],
   "source": [
    "y_pred = best_model.predict(X_val)\n",
    "output_result(y_val,y_pred)"
   ]
  },
  {
   "cell_type": "markdown",
   "id": "b1dfbed9",
   "metadata": {},
   "source": [
    "After removing some features, there is not much of a difference result. Based on the project, we should look at recall metrics since we need to properly identify all of the defaulter correctly. We can adjust the threshold to get better recall"
   ]
  },
  {
   "cell_type": "code",
   "execution_count": 34,
   "id": "e60ff6ea",
   "metadata": {},
   "outputs": [
    {
     "name": "stdout",
     "output_type": "stream",
     "text": [
      "Threshold:  0.4\n",
      "Training\n",
      "Confusion Matrix\n",
      "[[8540   60]\n",
      " [  98 8502]]\n",
      "Accuracy : 0.9908139534883721\n",
      "Auc score Train: 0.9908139534883721\n",
      "              precision    recall  f1-score   support\n",
      "\n",
      "           0       0.99      0.99      0.99      8600\n",
      "           1       0.99      0.99      0.99      8600\n",
      "\n",
      "    accuracy                           0.99     17200\n",
      "   macro avg       0.99      0.99      0.99     17200\n",
      "weighted avg       0.99      0.99      0.99     17200\n",
      "\n",
      "Validation\n",
      "Confusion Matrix\n",
      "[[2781  486]\n",
      " [ 490  443]]\n",
      "Accuracy : 0.7676190476190476\n",
      "Auc score Train: 0.6630260512166388\n",
      "              precision    recall  f1-score   support\n",
      "\n",
      "           0       0.85      0.85      0.85      3267\n",
      "           1       0.48      0.47      0.48       933\n",
      "\n",
      "    accuracy                           0.77      4200\n",
      "   macro avg       0.66      0.66      0.66      4200\n",
      "weighted avg       0.77      0.77      0.77      4200\n",
      "\n",
      "*******************************************************\n",
      "Threshold:  0.45\n",
      "Training\n",
      "Confusion Matrix\n",
      "[[8572   28]\n",
      " [ 152 8448]]\n",
      "Accuracy : 0.9895348837209302\n",
      "Auc score Train: 0.9895348837209302\n",
      "              precision    recall  f1-score   support\n",
      "\n",
      "           0       0.98      1.00      0.99      8600\n",
      "           1       1.00      0.98      0.99      8600\n",
      "\n",
      "    accuracy                           0.99     17200\n",
      "   macro avg       0.99      0.99      0.99     17200\n",
      "weighted avg       0.99      0.99      0.99     17200\n",
      "\n",
      "Validation\n",
      "Confusion Matrix\n",
      "[[2846  421]\n",
      " [ 521  412]]\n",
      "Accuracy : 0.7757142857142857\n",
      "Auc score Train: 0.6563609396114511\n",
      "              precision    recall  f1-score   support\n",
      "\n",
      "           0       0.85      0.87      0.86      3267\n",
      "           1       0.49      0.44      0.47       933\n",
      "\n",
      "    accuracy                           0.78      4200\n",
      "   macro avg       0.67      0.66      0.66      4200\n",
      "weighted avg       0.77      0.78      0.77      4200\n",
      "\n",
      "*******************************************************\n",
      "Threshold:  0.5\n",
      "Training\n",
      "Confusion Matrix\n",
      "[[8591    9]\n",
      " [ 235 8365]]\n",
      "Accuracy : 0.9858139534883721\n",
      "Auc score Train: 0.985813953488372\n",
      "              precision    recall  f1-score   support\n",
      "\n",
      "           0       0.97      1.00      0.99      8600\n",
      "           1       1.00      0.97      0.99      8600\n",
      "\n",
      "    accuracy                           0.99     17200\n",
      "   macro avg       0.99      0.99      0.99     17200\n",
      "weighted avg       0.99      0.99      0.99     17200\n",
      "\n",
      "Validation\n",
      "Confusion Matrix\n",
      "[[2925  342]\n",
      " [ 552  381]]\n",
      "Accuracy : 0.7871428571428571\n",
      "Auc score Train: 0.6518384665125385\n",
      "              precision    recall  f1-score   support\n",
      "\n",
      "           0       0.84      0.90      0.87      3267\n",
      "           1       0.53      0.41      0.46       933\n",
      "\n",
      "    accuracy                           0.79      4200\n",
      "   macro avg       0.68      0.65      0.66      4200\n",
      "weighted avg       0.77      0.79      0.78      4200\n",
      "\n",
      "*******************************************************\n",
      "Threshold:  0.55\n",
      "Training\n",
      "Confusion Matrix\n",
      "[[8595    5]\n",
      " [ 321 8279]]\n",
      "Accuracy : 0.981046511627907\n",
      "Auc score Train: 0.981046511627907\n",
      "              precision    recall  f1-score   support\n",
      "\n",
      "           0       0.96      1.00      0.98      8600\n",
      "           1       1.00      0.96      0.98      8600\n",
      "\n",
      "    accuracy                           0.98     17200\n",
      "   macro avg       0.98      0.98      0.98     17200\n",
      "weighted avg       0.98      0.98      0.98     17200\n",
      "\n",
      "Validation\n",
      "Confusion Matrix\n",
      "[[2979  288]\n",
      " [ 589  344]]\n",
      "Accuracy : 0.7911904761904762\n",
      "Auc score Train: 0.6402744191402479\n",
      "              precision    recall  f1-score   support\n",
      "\n",
      "           0       0.83      0.91      0.87      3267\n",
      "           1       0.54      0.37      0.44       933\n",
      "\n",
      "    accuracy                           0.79      4200\n",
      "   macro avg       0.69      0.64      0.66      4200\n",
      "weighted avg       0.77      0.79      0.78      4200\n",
      "\n",
      "*******************************************************\n"
     ]
    }
   ],
   "source": [
    "for t in [0.4,0.45,0.5,0.55]:\n",
    "    print('Threshold: ',t)\n",
    "    print('Training')\n",
    "    y_pred = best_model.predict_proba(X_train_ns)\n",
    "    pred = (y_pred>=t).astype('int')[:,1]\n",
    "    output_result(y_train_ns,pred)\n",
    "    print('Validation')\n",
    "    y_pred = best_model.predict_proba(X_val)\n",
    "    pred = (y_pred>=t).astype('int')[:,1]\n",
    "    output_result(y_val,pred)\n",
    "    print('*'*55)"
   ]
  },
  {
   "cell_type": "markdown",
   "id": "5b1c5741",
   "metadata": {},
   "source": [
    "We will choose 0.4 for the threshold so we can get a better recall."
   ]
  },
  {
   "cell_type": "code",
   "execution_count": 35,
   "id": "670a9bcc",
   "metadata": {},
   "outputs": [
    {
     "name": "stdout",
     "output_type": "stream",
     "text": [
      "Confusion Matrix\n",
      "[[2987  267]\n",
      " [ 599  347]]\n",
      "Accuracy : 0.7938095238095239\n",
      "Auc score Train: 0.6423773764863802\n",
      "              precision    recall  f1-score   support\n",
      "\n",
      "           0       0.83      0.92      0.87      3254\n",
      "           1       0.57      0.37      0.44       946\n",
      "\n",
      "    accuracy                           0.79      4200\n",
      "   macro avg       0.70      0.64      0.66      4200\n",
      "weighted avg       0.77      0.79      0.78      4200\n",
      "\n"
     ]
    }
   ],
   "source": [
    "y_pred = best_model.predict_proba(X_test)\n",
    "pred = (y_pred>=t).astype('int')[:,1]\n",
    "output_result(y_test,pred)    "
   ]
  },
  {
   "cell_type": "markdown",
   "id": "1800eedc",
   "metadata": {},
   "source": [
    "# Save the Model"
   ]
  },
  {
   "cell_type": "code",
   "execution_count": 36,
   "id": "8eb59f20",
   "metadata": {},
   "outputs": [],
   "source": [
    "import pickle\n",
    "import joblib"
   ]
  },
  {
   "cell_type": "code",
   "execution_count": 37,
   "id": "635eb607",
   "metadata": {},
   "outputs": [],
   "source": [
    "with open('model.pkl','wb') as f_out:\n",
    "    pickle.dump((best_model),f_out)"
   ]
  },
  {
   "cell_type": "code",
   "execution_count": 38,
   "id": "1b1f3410",
   "metadata": {},
   "outputs": [],
   "source": [
    "with open('encoder.joblib','wb') as f_out:\n",
    "    joblib.dump((ohe),f_out)"
   ]
  },
  {
   "cell_type": "code",
   "execution_count": 40,
   "id": "ecf5bb96",
   "metadata": {},
   "outputs": [
    {
     "data": {
      "text/html": [
       "<div>\n",
       "<style scoped>\n",
       "    .dataframe tbody tr th:only-of-type {\n",
       "        vertical-align: middle;\n",
       "    }\n",
       "\n",
       "    .dataframe tbody tr th {\n",
       "        vertical-align: top;\n",
       "    }\n",
       "\n",
       "    .dataframe thead th {\n",
       "        text-align: right;\n",
       "    }\n",
       "</style>\n",
       "<table border=\"1\" class=\"dataframe\">\n",
       "  <thead>\n",
       "    <tr style=\"text-align: right;\">\n",
       "      <th></th>\n",
       "      <th>SEX_male</th>\n",
       "      <th>MARRIAGE_married</th>\n",
       "      <th>MARRIAGE_single</th>\n",
       "      <th>EDUCATION_high school</th>\n",
       "      <th>EDUCATION_others</th>\n",
       "      <th>EDUCATION_university</th>\n",
       "      <th>LIMIT_BAL</th>\n",
       "      <th>AGE</th>\n",
       "      <th>PAY_0</th>\n",
       "      <th>BILL_MEAN</th>\n",
       "      <th>PAY_AMT_MEAN</th>\n",
       "    </tr>\n",
       "  </thead>\n",
       "  <tbody>\n",
       "    <tr>\n",
       "      <th>0</th>\n",
       "      <td>1.0</td>\n",
       "      <td>0.0</td>\n",
       "      <td>1.0</td>\n",
       "      <td>0.0</td>\n",
       "      <td>0.0</td>\n",
       "      <td>0.0</td>\n",
       "      <td>20000</td>\n",
       "      <td>28</td>\n",
       "      <td>0</td>\n",
       "      <td>7822.333333</td>\n",
       "      <td>1584.166667</td>\n",
       "    </tr>\n",
       "    <tr>\n",
       "      <th>1</th>\n",
       "      <td>0.0</td>\n",
       "      <td>1.0</td>\n",
       "      <td>0.0</td>\n",
       "      <td>0.0</td>\n",
       "      <td>0.0</td>\n",
       "      <td>1.0</td>\n",
       "      <td>290000</td>\n",
       "      <td>45</td>\n",
       "      <td>0</td>\n",
       "      <td>86894.500000</td>\n",
       "      <td>4000.000000</td>\n",
       "    </tr>\n",
       "    <tr>\n",
       "      <th>2</th>\n",
       "      <td>1.0</td>\n",
       "      <td>1.0</td>\n",
       "      <td>0.0</td>\n",
       "      <td>0.0</td>\n",
       "      <td>0.0</td>\n",
       "      <td>0.0</td>\n",
       "      <td>20000</td>\n",
       "      <td>39</td>\n",
       "      <td>0</td>\n",
       "      <td>629.666667</td>\n",
       "      <td>783.333333</td>\n",
       "    </tr>\n",
       "    <tr>\n",
       "      <th>3</th>\n",
       "      <td>0.0</td>\n",
       "      <td>1.0</td>\n",
       "      <td>0.0</td>\n",
       "      <td>0.0</td>\n",
       "      <td>0.0</td>\n",
       "      <td>1.0</td>\n",
       "      <td>170000</td>\n",
       "      <td>39</td>\n",
       "      <td>0</td>\n",
       "      <td>20534.666667</td>\n",
       "      <td>1120.166667</td>\n",
       "    </tr>\n",
       "    <tr>\n",
       "      <th>4</th>\n",
       "      <td>0.0</td>\n",
       "      <td>1.0</td>\n",
       "      <td>0.0</td>\n",
       "      <td>0.0</td>\n",
       "      <td>0.0</td>\n",
       "      <td>1.0</td>\n",
       "      <td>110000</td>\n",
       "      <td>24</td>\n",
       "      <td>1</td>\n",
       "      <td>40960.500000</td>\n",
       "      <td>13272.500000</td>\n",
       "    </tr>\n",
       "    <tr>\n",
       "      <th>...</th>\n",
       "      <td>...</td>\n",
       "      <td>...</td>\n",
       "      <td>...</td>\n",
       "      <td>...</td>\n",
       "      <td>...</td>\n",
       "      <td>...</td>\n",
       "      <td>...</td>\n",
       "      <td>...</td>\n",
       "      <td>...</td>\n",
       "      <td>...</td>\n",
       "      <td>...</td>\n",
       "    </tr>\n",
       "    <tr>\n",
       "      <th>12595</th>\n",
       "      <td>1.0</td>\n",
       "      <td>0.0</td>\n",
       "      <td>1.0</td>\n",
       "      <td>0.0</td>\n",
       "      <td>0.0</td>\n",
       "      <td>1.0</td>\n",
       "      <td>210000</td>\n",
       "      <td>35</td>\n",
       "      <td>0</td>\n",
       "      <td>139461.833333</td>\n",
       "      <td>5536.166667</td>\n",
       "    </tr>\n",
       "    <tr>\n",
       "      <th>12596</th>\n",
       "      <td>1.0</td>\n",
       "      <td>0.0</td>\n",
       "      <td>1.0</td>\n",
       "      <td>0.0</td>\n",
       "      <td>0.0</td>\n",
       "      <td>0.0</td>\n",
       "      <td>50000</td>\n",
       "      <td>29</td>\n",
       "      <td>2</td>\n",
       "      <td>47978.333333</td>\n",
       "      <td>2034.166667</td>\n",
       "    </tr>\n",
       "    <tr>\n",
       "      <th>12597</th>\n",
       "      <td>0.0</td>\n",
       "      <td>0.0</td>\n",
       "      <td>1.0</td>\n",
       "      <td>0.0</td>\n",
       "      <td>0.0</td>\n",
       "      <td>0.0</td>\n",
       "      <td>340000</td>\n",
       "      <td>36</td>\n",
       "      <td>0</td>\n",
       "      <td>83341.500000</td>\n",
       "      <td>18300.500000</td>\n",
       "    </tr>\n",
       "    <tr>\n",
       "      <th>12598</th>\n",
       "      <td>1.0</td>\n",
       "      <td>0.0</td>\n",
       "      <td>1.0</td>\n",
       "      <td>0.0</td>\n",
       "      <td>0.0</td>\n",
       "      <td>0.0</td>\n",
       "      <td>100000</td>\n",
       "      <td>27</td>\n",
       "      <td>1</td>\n",
       "      <td>100296.833333</td>\n",
       "      <td>7964.333333</td>\n",
       "    </tr>\n",
       "    <tr>\n",
       "      <th>12599</th>\n",
       "      <td>0.0</td>\n",
       "      <td>1.0</td>\n",
       "      <td>0.0</td>\n",
       "      <td>0.0</td>\n",
       "      <td>0.0</td>\n",
       "      <td>1.0</td>\n",
       "      <td>120000</td>\n",
       "      <td>30</td>\n",
       "      <td>2</td>\n",
       "      <td>92650.166667</td>\n",
       "      <td>4418.166667</td>\n",
       "    </tr>\n",
       "  </tbody>\n",
       "</table>\n",
       "<p>12600 rows × 11 columns</p>\n",
       "</div>"
      ],
      "text/plain": [
       "       SEX_male  MARRIAGE_married  MARRIAGE_single  EDUCATION_high school  \\\n",
       "0           1.0               0.0              1.0                    0.0   \n",
       "1           0.0               1.0              0.0                    0.0   \n",
       "2           1.0               1.0              0.0                    0.0   \n",
       "3           0.0               1.0              0.0                    0.0   \n",
       "4           0.0               1.0              0.0                    0.0   \n",
       "...         ...               ...              ...                    ...   \n",
       "12595       1.0               0.0              1.0                    0.0   \n",
       "12596       1.0               0.0              1.0                    0.0   \n",
       "12597       0.0               0.0              1.0                    0.0   \n",
       "12598       1.0               0.0              1.0                    0.0   \n",
       "12599       0.0               1.0              0.0                    0.0   \n",
       "\n",
       "       EDUCATION_others  EDUCATION_university  LIMIT_BAL  AGE  PAY_0  \\\n",
       "0                   0.0                   0.0      20000   28      0   \n",
       "1                   0.0                   1.0     290000   45      0   \n",
       "2                   0.0                   0.0      20000   39      0   \n",
       "3                   0.0                   1.0     170000   39      0   \n",
       "4                   0.0                   1.0     110000   24      1   \n",
       "...                 ...                   ...        ...  ...    ...   \n",
       "12595               0.0                   1.0     210000   35      0   \n",
       "12596               0.0                   0.0      50000   29      2   \n",
       "12597               0.0                   0.0     340000   36      0   \n",
       "12598               0.0                   0.0     100000   27      1   \n",
       "12599               0.0                   1.0     120000   30      2   \n",
       "\n",
       "           BILL_MEAN  PAY_AMT_MEAN  \n",
       "0        7822.333333   1584.166667  \n",
       "1       86894.500000   4000.000000  \n",
       "2         629.666667    783.333333  \n",
       "3       20534.666667   1120.166667  \n",
       "4       40960.500000  13272.500000  \n",
       "...              ...           ...  \n",
       "12595  139461.833333   5536.166667  \n",
       "12596   47978.333333   2034.166667  \n",
       "12597   83341.500000  18300.500000  \n",
       "12598  100296.833333   7964.333333  \n",
       "12599   92650.166667   4418.166667  \n",
       "\n",
       "[12600 rows x 11 columns]"
      ]
     },
     "execution_count": 40,
     "metadata": {},
     "output_type": "execute_result"
    }
   ],
   "source": [
    "X_train"
   ]
  }
 ],
 "metadata": {
  "kernelspec": {
   "display_name": "Python 3 (ipykernel)",
   "language": "python",
   "name": "python3"
  },
  "language_info": {
   "codemirror_mode": {
    "name": "ipython",
    "version": 3
   },
   "file_extension": ".py",
   "mimetype": "text/x-python",
   "name": "python",
   "nbconvert_exporter": "python",
   "pygments_lexer": "ipython3",
   "version": "3.9.15"
  }
 },
 "nbformat": 4,
 "nbformat_minor": 5
}
